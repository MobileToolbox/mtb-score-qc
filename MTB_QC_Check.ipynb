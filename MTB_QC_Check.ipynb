{
 "cells": [
  {
   "cell_type": "code",
   "execution_count": 1,
   "metadata": {},
   "outputs": [],
   "source": [
    "import requests\n",
    "import json\n",
    "import pandas as pd\n",
    "import numpy as np\n",
    "from pandas import json_normalize\n",
    "import math\n",
    "from tqdm import tqdm"
   ]
  },
  {
   "cell_type": "code",
   "execution_count": 2,
   "metadata": {},
   "outputs": [],
   "source": [
    "LOGIN_ENDPOINT = \"https://webservices.sagebridge.org/v3/auth/signIn\"\n",
    "API_ENDPOINT = \"https://webservices.sagebridge.org/v5/studies/\"\n",
    "\n",
    "LOG_VAL = {\n",
    "  \"appId\": \"mobile-toolbox\",\n",
    "  \"email\": \"XXXXXX@XXX.com\",\n",
    "  \"password\": \"XXXXXX\"\n",
    "}\n",
    "studyid = 'fmqcjv'"
   ]
  },
  {
   "cell_type": "markdown",
   "metadata": {},
   "source": [
    "### Login Authentication"
   ]
  },
  {
   "cell_type": "code",
   "execution_count": 3,
   "metadata": {},
   "outputs": [],
   "source": [
    "def login_bridge(login_api, login_param):\n",
    "    response = requests.post(login_api, json=login_param)\n",
    "    return response"
   ]
  },
  {
   "cell_type": "code",
   "execution_count": 4,
   "metadata": {},
   "outputs": [],
   "source": [
    "login_res = login_bridge(LOGIN_ENDPOINT, LOG_VAL)"
   ]
  },
  {
   "cell_type": "markdown",
   "metadata": {},
   "source": [
    "### Get Enrollment Info"
   ]
  },
  {
   "cell_type": "code",
   "execution_count": 5,
   "metadata": {},
   "outputs": [],
   "source": [
    "def get_enroll(api_endpoint, studyid, login_res):\n",
    "    enroll_api = api_endpoint + studyid + '/enrollments?offsetBy=0&pageSize=100'\n",
    "    \n",
    "    enroll_res = requests.get(enroll_api, headers={'Bridge-Session':login_res.json()['sessionToken']})\n",
    "    enroll_json = enroll_res.json()\n",
    "    total_rec = enroll_json['total']\n",
    "    \n",
    "    df_enroll = get_enroll_offset(api_endpoint, total_rec, login_res)\n",
    "    return df_enroll\n",
    "\n",
    "def get_enroll_offset(api_endpoint, total_rec, login_res):\n",
    "    pageSize = 100\n",
    "    offsetBy = 0\n",
    "    \n",
    "    df_list = []\n",
    "    tot_page = math.ceil(total_rec/100)\n",
    "    \n",
    "    for i in range(tot_page):\n",
    "        enroll_api = api_endpoint + studyid + '/enrollments?offsetBy='+ str(offsetBy) +'&pageSize='+ str(pageSize)\n",
    "        \n",
    "        enroll_res = requests.get(enroll_api, headers={'Bridge-Session':login_res.json()['sessionToken']})\n",
    "        enroll_json = enroll_res.json()\n",
    "        df_enroll = json_normalize(enroll_json['items'])\n",
    "        \n",
    "        df_list.append(df_enroll)\n",
    "        offsetBy += pageSize\n",
    "    \n",
    "    df_final = pd.concat(df_list).reset_index(drop=True)[['participant.identifier']]\n",
    "    return df_final\n",
    "\n",
    "def get_participant(api_endpoint, studyid, login_res, df_enroll):\n",
    "    df_list = []\n",
    "    \n",
    "    for index, row in tqdm(df_enroll.iterrows()):\n",
    "        userid = row['participant.identifier']\n",
    "        \n",
    "        participant_api = api_endpoint + studyid + '/participants/'+ userid\n",
    "        participant_res = requests.get(participant_api, headers={'Bridge-Session':login_res.json()['sessionToken']})\n",
    "        participant_json = participant_res.json()\n",
    "        \n",
    "        df_participant = json_normalize(participant_json)\n",
    "        df_list.append(df_participant)\n",
    "    \n",
    "    df_final = pd.concat(df_list).reset_index(drop=True)\n",
    "    df_final = df_final[['externalId', 'healthCode', 'id']]\n",
    "    return df_final\n",
    "\n",
    "def filter_record(df_enroll, df_participant):\n",
    "    df_participant = df_participant[['externalId', 'healthCode', 'id']]\n",
    "    \n",
    "    df_enroll = df_enroll.rename(columns={\"participant.identifier\": \"id\"})\n",
    "    df_merge = df_enroll.merge(df_participant, on='id', how='left')\n",
    "    return df_merge"
   ]
  },
  {
   "cell_type": "code",
   "execution_count": 6,
   "metadata": {},
   "outputs": [
    {
     "name": "stderr",
     "output_type": "stream",
     "text": [
      "6804it [06:09, 18.42it/s]\n"
     ]
    }
   ],
   "source": [
    "#Get Enrollment and Participant Info\n",
    "df_enroll = get_enroll(API_ENDPOINT, studyid, login_res)\n",
    "df_participant = get_participant(API_ENDPOINT,studyid, login_res, df_enroll)"
   ]
  },
  {
   "cell_type": "code",
   "execution_count": 7,
   "metadata": {},
   "outputs": [],
   "source": [
    "df_info = filter_record(df_enroll, df_participant)"
   ]
  },
  {
   "cell_type": "markdown",
   "metadata": {},
   "source": [
    "### Get Adherence"
   ]
  },
  {
   "cell_type": "code",
   "execution_count": 8,
   "metadata": {},
   "outputs": [],
   "source": [
    "def get_adherence(api_endpoint, df_info, studyid, login_res):\n",
    "    df_list = []\n",
    "    \n",
    "    for index, row in tqdm(df_info.iterrows()):\n",
    "        userid = row['id']\n",
    "        \n",
    "        adherence_api = api_endpoint+studyid+'/participants/'+userid+'/adherence/search?pageSize=500'\n",
    "        json_header = {\"adherenceRecordType\": \"assessment\"}\n",
    "        session_header = {'Bridge-Session':login_res.json()['sessionToken']}\n",
    "\n",
    "        adh_res = requests.post(adherence_api, json=json_header, headers=session_header)\n",
    "        adh_json = adh_res.json()\n",
    "        df_json = json_normalize(adh_json['items'])\n",
    "        \n",
    "        df_json['healthcode'] = row['healthCode']\n",
    "        df_json['externalId'] = row['externalId']\n",
    "        \n",
    "        if len(df_json)==0:#In case no adherence record available\n",
    "            df_json = pd.DataFrame(columns=['instanceGuid', 'eventTimestamp', 'startedOn', 'finishedOn',\n",
    "                                            'clientTimeZone', 'declined', 'assessmentGuid', 'type'])\n",
    "            \n",
    "            df_json['userId'] = [row['id']]\n",
    "            df_json['healthcode'] = [row['healthCode']]\n",
    "            df_json['externalId'] = [row['externalId']]\n",
    "            \n",
    "        df_list.append(df_json)\n",
    "    df_final = pd.concat(df_list).reset_index(drop=True)\n",
    "    return df_final\n"
   ]
  },
  {
   "cell_type": "code",
   "execution_count": 9,
   "metadata": {},
   "outputs": [
    {
     "name": "stderr",
     "output_type": "stream",
     "text": [
      "6804it [05:54, 19.18it/s]\n"
     ]
    }
   ],
   "source": [
    "adh_res = get_adherence(API_ENDPOINT, df_info, studyid, login_res)"
   ]
  },
  {
   "cell_type": "markdown",
   "metadata": {},
   "source": [
    "##### Filter Adherence"
   ]
  },
  {
   "cell_type": "code",
   "execution_count": 10,
   "metadata": {},
   "outputs": [],
   "source": [
    "#Replace it with specific project score\n",
    "df_score = pd.read_csv('data/MTB_UCSF_scores.csv')"
   ]
  },
  {
   "cell_type": "code",
   "execution_count": 11,
   "metadata": {},
   "outputs": [],
   "source": [
    "def filter_adh(df):\n",
    "    df['task_status'] = np.where((df['finishedOn'].isnull()) | (df['declined'] != False), 'incomplete', 'complete')\n",
    "    df[['participant_id','study_reference']] = df['externalId'].str.split(':',expand=True)\n",
    "    df['participant_id'] = df['participant_id'].astype(str)\n",
    "    return df"
   ]
  },
  {
   "cell_type": "code",
   "execution_count": 12,
   "metadata": {},
   "outputs": [],
   "source": [
    "df_adh = filter_adh(adh_res)"
   ]
  },
  {
   "cell_type": "markdown",
   "metadata": {},
   "source": [
    "### QC Check"
   ]
  },
  {
   "cell_type": "markdown",
   "metadata": {},
   "source": [
    "#### 1: Overview on participant info: if atleast one took by participant\n",
    "    - score_processed:\n",
    "        - Yes: at least one score processed\n",
    "        - No: No score processed\n",
    "        - NaN: No adherence record available for participants\n",
    "    - task_status:\n",
    "        - complete: Adherence recod is complete\n",
    "        - incomplete: In complete adherence record\n",
    "- Check if any of the task uploaded on our side"
   ]
  },
  {
   "cell_type": "code",
   "execution_count": 13,
   "metadata": {},
   "outputs": [],
   "source": [
    "df_adh_copy = df_adh\n",
    "df_score_copy = df_score"
   ]
  },
  {
   "cell_type": "code",
   "execution_count": 14,
   "metadata": {},
   "outputs": [],
   "source": [
    "def participant_check(df1, df2):\n",
    "    df1_filter = df1.drop_duplicates(subset=['healthcode','participant_id'], keep='last').reset_index(drop=True)\n",
    "    df2_filter = df2.drop_duplicates(subset=['healthcode','participant_id'], keep='last').reset_index(drop=True)\n",
    "    \n",
    "    df1_filter['score_processed'] = 'yes'\n",
    "    df1_filter = df1_filter[['healthcode','participant_id', 'score_processed']]\n",
    "    \n",
    "    df_merge = df2_filter.merge(df1_filter, on =['healthcode','participant_id'], how='left')\n",
    "    df_merge['score_processed'] = np.where(df_merge['instanceGuid'].isnull(), df_merge['score_processed'],\n",
    "                                          np.where(df_merge['score_processed']=='yes', \n",
    "                                                   df_merge['score_processed'], 'no'))\n",
    "    \n",
    "    df_merge = df_merge[['userId', 'participant_id', 'healthcode', 'task_status', 'score_processed']]\n",
    "    return df_merge\n",
    "    "
   ]
  },
  {
   "cell_type": "code",
   "execution_count": 15,
   "metadata": {},
   "outputs": [],
   "source": [
    "pt_check = participant_check(df_score_copy, df_adh_copy)"
   ]
  },
  {
   "cell_type": "code",
   "execution_count": 16,
   "metadata": {},
   "outputs": [],
   "source": [
    "#Stats\n",
    "no_adh_record = pt_check[pt_check['score_processed'].isnull()]\n",
    "complete_rec = pt_check[pt_check['task_status']=='complete']\n",
    "comp_rec_score_processed = len(complete_rec[complete_rec['score_processed']=='yes'])/len(complete_rec)"
   ]
  },
  {
   "cell_type": "markdown",
   "metadata": {},
   "source": [
    "#### 2: Task level information"
   ]
  },
  {
   "cell_type": "code",
   "execution_count": null,
   "metadata": {},
   "outputs": [],
   "source": []
  },
  {
   "cell_type": "code",
   "execution_count": null,
   "metadata": {},
   "outputs": [],
   "source": []
  },
  {
   "cell_type": "code",
   "execution_count": null,
   "metadata": {},
   "outputs": [],
   "source": []
  },
  {
   "cell_type": "code",
   "execution_count": null,
   "metadata": {},
   "outputs": [],
   "source": []
  },
  {
   "cell_type": "code",
   "execution_count": null,
   "metadata": {},
   "outputs": [],
   "source": []
  }
 ],
 "metadata": {
  "kernelspec": {
   "display_name": "Python 3 (ipykernel)",
   "language": "python",
   "name": "python3"
  },
  "language_info": {
   "codemirror_mode": {
    "name": "ipython",
    "version": 3
   },
   "file_extension": ".py",
   "mimetype": "text/x-python",
   "name": "python",
   "nbconvert_exporter": "python",
   "pygments_lexer": "ipython3",
   "version": "3.8.3"
  }
 },
 "nbformat": 4,
 "nbformat_minor": 4
}
